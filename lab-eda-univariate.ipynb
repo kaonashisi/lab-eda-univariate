{
 "cells": [
  {
   "cell_type": "code",
   "execution_count": 1,
   "id": "e98e7270",
   "metadata": {},
   "outputs": [],
   "source": [
    "import pandas as pd\n",
    "import matplotlib.pyplot as plt\n",
    "import seaborn as sns\n",
    "import numpy as np"
   ]
  },
  {
   "cell_type": "code",
   "execution_count": 2,
   "id": "8d49b6fd",
   "metadata": {},
   "outputs": [],
   "source": [
    "#Loading dataset\n",
    "df = pd.read_csv(\"amz_uk_price_prediction_dataset.csv\")"
   ]
  },
  {
   "cell_type": "markdown",
   "id": "76f74e46",
   "metadata": {},
   "source": [
    "## Initial Exploration"
   ]
  },
  {
   "cell_type": "code",
   "execution_count": 3,
   "id": "c0089f94",
   "metadata": {},
   "outputs": [
    {
     "data": {
      "text/html": [
       "<div>\n",
       "<style scoped>\n",
       "    .dataframe tbody tr th:only-of-type {\n",
       "        vertical-align: middle;\n",
       "    }\n",
       "\n",
       "    .dataframe tbody tr th {\n",
       "        vertical-align: top;\n",
       "    }\n",
       "\n",
       "    .dataframe thead th {\n",
       "        text-align: right;\n",
       "    }\n",
       "</style>\n",
       "<table border=\"1\" class=\"dataframe\">\n",
       "  <thead>\n",
       "    <tr style=\"text-align: right;\">\n",
       "      <th></th>\n",
       "      <th>uid</th>\n",
       "      <th>asin</th>\n",
       "      <th>title</th>\n",
       "      <th>stars</th>\n",
       "      <th>reviews</th>\n",
       "      <th>price</th>\n",
       "      <th>isBestSeller</th>\n",
       "      <th>boughtInLastMonth</th>\n",
       "      <th>category</th>\n",
       "    </tr>\n",
       "  </thead>\n",
       "  <tbody>\n",
       "    <tr>\n",
       "      <th>0</th>\n",
       "      <td>1</td>\n",
       "      <td>B09B96TG33</td>\n",
       "      <td>Echo Dot (5th generation, 2022 release) | Big ...</td>\n",
       "      <td>4.7</td>\n",
       "      <td>15308</td>\n",
       "      <td>21.99</td>\n",
       "      <td>False</td>\n",
       "      <td>0</td>\n",
       "      <td>Hi-Fi Speakers</td>\n",
       "    </tr>\n",
       "    <tr>\n",
       "      <th>1</th>\n",
       "      <td>2</td>\n",
       "      <td>B01HTH3C8S</td>\n",
       "      <td>Anker Soundcore mini, Super-Portable Bluetooth...</td>\n",
       "      <td>4.7</td>\n",
       "      <td>98099</td>\n",
       "      <td>23.99</td>\n",
       "      <td>True</td>\n",
       "      <td>0</td>\n",
       "      <td>Hi-Fi Speakers</td>\n",
       "    </tr>\n",
       "    <tr>\n",
       "      <th>2</th>\n",
       "      <td>3</td>\n",
       "      <td>B09B8YWXDF</td>\n",
       "      <td>Echo Dot (5th generation, 2022 release) | Big ...</td>\n",
       "      <td>4.7</td>\n",
       "      <td>15308</td>\n",
       "      <td>21.99</td>\n",
       "      <td>False</td>\n",
       "      <td>0</td>\n",
       "      <td>Hi-Fi Speakers</td>\n",
       "    </tr>\n",
       "  </tbody>\n",
       "</table>\n",
       "</div>"
      ],
      "text/plain": [
       "   uid        asin                                              title  stars  \\\n",
       "0    1  B09B96TG33  Echo Dot (5th generation, 2022 release) | Big ...    4.7   \n",
       "1    2  B01HTH3C8S  Anker Soundcore mini, Super-Portable Bluetooth...    4.7   \n",
       "2    3  B09B8YWXDF  Echo Dot (5th generation, 2022 release) | Big ...    4.7   \n",
       "\n",
       "   reviews  price  isBestSeller  boughtInLastMonth        category  \n",
       "0    15308  21.99         False                  0  Hi-Fi Speakers  \n",
       "1    98099  23.99          True                  0  Hi-Fi Speakers  \n",
       "2    15308  21.99         False                  0  Hi-Fi Speakers  "
      ]
     },
     "execution_count": 3,
     "metadata": {},
     "output_type": "execute_result"
    }
   ],
   "source": [
    "df.head(3)"
   ]
  },
  {
   "cell_type": "code",
   "execution_count": 4,
   "id": "8bfe27c6",
   "metadata": {},
   "outputs": [
    {
     "data": {
      "text/plain": [
       "(2443651, 9)"
      ]
     },
     "execution_count": 4,
     "metadata": {},
     "output_type": "execute_result"
    }
   ],
   "source": [
    "df.shape"
   ]
  },
  {
   "cell_type": "code",
   "execution_count": 5,
   "id": "f9249b47",
   "metadata": {},
   "outputs": [
    {
     "data": {
      "text/plain": [
       "uid                    int64\n",
       "asin                  object\n",
       "title                 object\n",
       "stars                float64\n",
       "reviews                int64\n",
       "price                float64\n",
       "isBestSeller            bool\n",
       "boughtInLastMonth      int64\n",
       "category              object\n",
       "dtype: object"
      ]
     },
     "execution_count": 5,
     "metadata": {},
     "output_type": "execute_result"
    }
   ],
   "source": [
    "df.dtypes"
   ]
  },
  {
   "cell_type": "markdown",
   "id": "4ca23f44",
   "metadata": {},
   "source": [
    "## Part 1: Understanding Product Categories"
   ]
  },
  {
   "cell_type": "code",
   "execution_count": 6,
   "id": "de9b6ced",
   "metadata": {},
   "outputs": [
    {
     "data": {
      "text/plain": [
       "category\n",
       "Sports & Outdoors                         836265\n",
       "Beauty                                     19312\n",
       "Handmade Clothing, Shoes & Accessories     19229\n",
       "Bath & Body                                19092\n",
       "Birthday Gifts                             18978\n",
       "                                           ...  \n",
       "Alexa Built-In Devices                       107\n",
       "Motorbike Chassis                            107\n",
       "Plugs                                        107\n",
       "Smart Home Security & Lighting               104\n",
       "Smart Speakers                                54\n",
       "Name: count, Length: 296, dtype: int64"
      ]
     },
     "metadata": {},
     "output_type": "display_data"
    }
   ],
   "source": [
    "#1. Frequency Tables\n",
    "frequency_table = df['category'].value_counts(dropna='False')\n",
    "display(frequency_table)"
   ]
  },
  {
   "cell_type": "markdown",
   "id": "7484e1c3",
   "metadata": {},
   "source": [
    "The top 5 most listed category are :\n",
    "* Sports & Outdoors\n",
    "* Beauty\n",
    "* Handmade Clothing, Shoes & Accessories\n",
    "* Bath & Body \n",
    "* Birthday Gifts"
   ]
  },
  {
   "cell_type": "code",
   "execution_count": 7,
   "id": "7964fa07",
   "metadata": {},
   "outputs": [
    {
     "data": {
      "text/plain": [
       "5"
      ]
     },
     "execution_count": 7,
     "metadata": {},
     "output_type": "execute_result"
    }
   ],
   "source": [
    "len(frequency_table.index[0:5])"
   ]
  },
  {
   "cell_type": "code",
   "execution_count": 8,
   "id": "2cbb954c",
   "metadata": {},
   "outputs": [
    {
     "data": {
      "image/png": "[encoded data removed]",
      "text/plain": [
       "<Figure size 640x480 with 1 Axes>"
      ]
     },
     "metadata": {},
     "output_type": "display_data"
    }
   ],
   "source": [
    "#2. Visualizations\n",
    "#Plotting a bar chart\n",
    "ax = sns.barplot(x=frequency_table.index[0:5], y=frequency_table.values[0:5])\n",
    "ax.axes.set_title(\"Distribution of product across different categories\")\n",
    "ax.set_xlabel(\"category\",fontsize=13)\n",
    "ax.set_ylabel(\"frequence\",rotation = 360, fontsize=13)\n",
    "ax.tick_params(labelsize=10)\n",
    "plt.xticks(rotation=75)\n",
    "plt.show() "
   ]
  },
  {
   "cell_type": "code",
   "execution_count": 9,
   "id": "1476f9f7",
   "metadata": {},
   "outputs": [
    {
     "data": {
      "image/png": "[encoded data removed]",
      "text/plain": [
       "<Figure size 640x480 with 1 Axes>"
      ]
     },
     "metadata": {},
     "output_type": "display_data"
    }
   ],
   "source": [
    "#Plotting a pie chart\n",
    "colors = sns.color_palette('pastel')[0:5]\n",
    "plt.pie(frequency_table.values[0:5], labels = frequency_table.index[0:5], colors = colors, autopct='%1.2f%%')\n",
    "plt.title(\"Vizualise products across categories using pie chart\")\n",
    "plt.show()\n"
   ]
  },
  {
   "cell_type": "markdown",
   "id": "f7119e5a",
   "metadata": {},
   "source": [
    "## Part 2: Delving into Product Pricing"
   ]
  },
  {
   "cell_type": "code",
   "execution_count": 10,
   "id": "d7ea2db6",
   "metadata": {},
   "outputs": [
    {
     "data": {
      "text/plain": [
       "89.24380943923663"
      ]
     },
     "metadata": {},
     "output_type": "display_data"
    },
    {
     "data": {
      "text/plain": [
       "19.09"
      ]
     },
     "metadata": {},
     "output_type": "display_data"
    },
    {
     "data": {
      "text/plain": [
       "9.99"
      ]
     },
     "metadata": {},
     "output_type": "display_data"
    },
    {
     "data": {
      "text/plain": [
       "'\\nThe average price point pf product listed is 89.24\\nThe mean is greater than the mode which is 9.99 this means that \\nthe distribution is positively skewed.\\n'"
      ]
     },
     "execution_count": 10,
     "metadata": {},
     "output_type": "execute_result"
    }
   ],
   "source": [
    "#1. Measures of Centrality\n",
    "\n",
    "#mean, median, mode\n",
    "mean = df['price'].mean()\n",
    "median = df['price'].median()\n",
    "mode = df['price'].mode()[0]\n",
    "\n",
    "display(mean, median, mode)\n",
    "\n",
    "#What's the average price point of products listed?\n",
    "#How does this compare with the most common price point (mode)?\n",
    "\n",
    "'''\n",
    "The average price point pf product listed is 89.24\n",
    "The mean is greater than the mode which is 9.99 this means that \n",
    "the distribution is positively skewed.\n",
    "'''"
   ]
  },
  {
   "cell_type": "code",
   "execution_count": 11,
   "id": "9174d8fe",
   "metadata": {},
   "outputs": [
    {
     "data": {
      "text/plain": [
       "119445.48532254907"
      ]
     },
     "metadata": {},
     "output_type": "display_data"
    },
    {
     "data": {
      "text/plain": [
       "345.60886175349884"
      ]
     },
     "metadata": {},
     "output_type": "display_data"
    },
    {
     "data": {
      "text/plain": [
       "0.0"
      ]
     },
     "metadata": {},
     "output_type": "display_data"
    },
    {
     "data": {
      "text/plain": [
       "100000.0"
      ]
     },
     "metadata": {},
     "output_type": "display_data"
    },
    {
     "data": {
      "text/plain": [
       "100000.0"
      ]
     },
     "metadata": {},
     "output_type": "display_data"
    },
    {
     "data": {
      "text/plain": [
       "0.25     9.99\n",
       "0.50    19.09\n",
       "0.75    45.99\n",
       "Name: price, dtype: float64"
      ]
     },
     "metadata": {},
     "output_type": "display_data"
    },
    {
     "data": {
      "text/plain": [
       "'\\nThe product prices varies a lot, the standard deviation is really high\\nso there is a significatn spread in prices\\n'"
      ]
     },
     "execution_count": 11,
     "metadata": {},
     "output_type": "execute_result"
    }
   ],
   "source": [
    "#2. Measures of Dispersion\n",
    "\n",
    "variance_price = df['price'].var()\n",
    "std_dev_price = df['price'].std()\n",
    "min_price = df['price'].min()\n",
    "max_price = df['price'].max()\n",
    "range_price = max_price - min_price\n",
    "quantiles_price = df['price'].quantile([0.25, 0.5, 0.75])\n",
    "\n",
    "display(variance_price, std_dev_price, min_price, max_price, range_price, quantiles_price)\n",
    "\n",
    "#How varied are the product prices? \n",
    "#Are there any indicators of a significant spread in prices?\n",
    "'''\n",
    "The product prices varies a lot, the standard deviation is really high\n",
    "so there is a significatn spread in prices\n",
    "'''"
   ]
  },
  {
   "cell_type": "code",
   "execution_count": 12,
   "id": "a8b08085",
   "metadata": {},
   "outputs": [],
   "source": [
    "#3. Vizualisations\n",
    "#sns.histplot(df['price'], kde=True, color=\"salmon\")"
   ]
  },
  {
   "cell_type": "code",
   "execution_count": 13,
   "id": "cbd3d723",
   "metadata": {},
   "outputs": [],
   "source": [
    "#df['price_quantile'] = pd.qcut(df['price'], q=4)\n",
    "#df['price_quantile'].value_counts()"
   ]
  },
  {
   "cell_type": "code",
   "execution_count": 14,
   "id": "f495b0ad",
   "metadata": {},
   "outputs": [
    {
     "data": {
      "text/plain": [
       "array([42.2997328 , 26.92350466, 23.47134863, 29.22398911, 29.34862973,\n",
       "       37.50354312, 25.47624667, 39.84995066, 37.04692076, 41.59191507,\n",
       "       43.42082229, 34.78036697, 32.6948103 , 40.55781239, 31.58718863,\n",
       "       27.22927224, 32.22338284, 26.74235985, 51.91983465, 34.55207899,\n",
       "       25.52002844, 47.96788561, 14.47965021, 34.38178212, 34.01035486,\n",
       "       29.58823344, 50.09550811, 47.65632835, 27.25822584, 19.56407109,\n",
       "       36.28514368, 30.20110398, 48.45342042, 38.06939176, 30.04643216,\n",
       "       33.79004757, 37.22238503, 39.93808776, 38.90202325, 34.67827632,\n",
       "       44.69014818, 24.06039046, 44.78928022, 35.11516406, 24.44503186,\n",
       "       35.82553425, 35.77850545, 18.59163734, 26.60723068, 29.46532938,\n",
       "       24.83081908, 36.72335495, 45.71076949, 40.33050508, 41.50318842,\n",
       "       40.16646788, 36.37302451, 56.34416705, 56.8446526 , 35.89129094,\n",
       "       29.86396803, 50.48309124, 16.3850564 , 33.72822569, 33.75073593,\n",
       "       25.38550591, 50.39600284, 25.65330834, 48.0489699 , 47.46012006,\n",
       "       32.15372048, 36.84785237, 46.44184369, 28.68550681, 47.76723912,\n",
       "       37.98040127, 56.14974795, 50.01463016, 33.40964433, 31.37071566,\n",
       "       34.09645431, 27.26550674, 32.55883525, 52.85707366, 24.62248536,\n",
       "       55.33440331, 38.46382674, 45.50662457, 35.15757446, 42.72869639,\n",
       "       29.75864997, 35.8749127 , 32.08116592, 37.37641888, 27.2061258 ,\n",
       "       37.0931751 , 28.05058907, 30.78220379, 24.61728501, 24.65796607,\n",
       "       29.11787037, 35.61458073, 48.0319089 , 23.50080587, 37.69489163,\n",
       "       41.23973465, 47.31791402, 39.93732451, 38.42761268, 22.78607375,\n",
       "       41.33206124, 45.32254879, 38.20553618,  6.8256528 , 51.44450576,\n",
       "       47.84109889, 25.27350268, 45.05280005, 35.30543187, 43.74092956,\n",
       "       18.64768005, 43.399537  , 36.12354275, 23.66898388, 30.17419441,\n",
       "       28.90812455, 26.73253315, 41.22972274, 28.46932963, 33.75337469,\n",
       "       22.85597899, 25.2792869 , 31.24617104, 32.65541596, 51.4618479 ,\n",
       "       33.01586783, 24.76255815, 26.26731107, 31.51172755, 36.22828618,\n",
       "       42.79179621, 32.0367617 , 26.05147361, 52.44047218, 21.52229286,\n",
       "       38.00316464, 46.41701962, 24.34601629, 35.11588969, 28.11688331,\n",
       "       32.52396856, 40.88555436, 38.95489479, 33.1891301 , 44.60772559,\n",
       "       45.05435572, 31.18504005, 52.07803323, 39.39793365, 31.13584841,\n",
       "       50.16755928, 35.60993   , 51.39560619, 43.1472537 , 36.94232882,\n",
       "       47.09278685, 37.22975068, 25.13938281, 39.49325335, 34.86424682,\n",
       "       14.68084227, 34.37761502, 34.18802803, 23.20102408, 35.40589617,\n",
       "       48.80532175, 32.52548886, 26.82995883, 28.0147746 , 21.11233856,\n",
       "       38.36552416, 26.88566177, 36.39081271, 28.01232694, 35.21806857,\n",
       "       39.99232601, 26.57750563, 36.93849151, 29.36552423, 49.89077754,\n",
       "       39.4319816 , 42.47197711, 46.35433601, 24.67297702, 43.23188169,\n",
       "       32.70397384, 32.6512234 , 52.59092912, 31.03743447, 26.2234204 ,\n",
       "       24.32839039, 23.48214702, 50.24430364, 52.34121856, 48.86648832,\n",
       "       21.4923989 , 30.70493894, 28.47312155, 34.74733175, 48.91893765,\n",
       "       30.92002917, 24.34481214, 44.9530942 , 29.55392141, 37.8803674 ,\n",
       "       51.42685248, 20.41862742, 16.40898799, 44.53613763, 45.07024104,\n",
       "       24.27766203, 55.37674041, 24.22551635, 27.58015808, 55.00490514,\n",
       "       23.29127583, 35.49514672, 36.33087706, 37.85464671, 32.08320217,\n",
       "       37.78630021, 45.96701221, 43.7236625 , 40.60947601, 27.35869657,\n",
       "       20.96977246, 36.78851726, 35.42876091, 29.62312874, 46.23346242,\n",
       "       35.01839391, 17.26098657, 25.37428535, 46.72970104, 46.94676174,\n",
       "       27.38803092, 44.60961409, 45.51447446, 46.00977468, 23.97240095,\n",
       "       31.53179101, 22.27182366, 58.49085487, 29.16637318, 34.97722472,\n",
       "       40.80299374, 31.76884902, 19.61729035, 28.14822989, 27.72709421,\n",
       "       24.76301757, 11.5076961 , 24.81493729, 50.30879588, 32.03722854,\n",
       "       30.20318276, 20.60651167, 45.73637994, 34.4603244 , 29.54007362,\n",
       "       34.90640492, 23.26997632, 48.67835507, 37.13162286,  8.83857843,\n",
       "       14.84966048, 36.9674949 , 49.44835351, 37.65820567, 39.88499073,\n",
       "       20.89369318, 27.38181235, 47.44571883, 33.71433746, 36.6731506 ,\n",
       "       45.34428681, 45.61669521, 42.78125366, 22.42879534, 35.3304349 ,\n",
       "       21.16212826, 35.22830026, 35.47865362, 18.79579355, 33.37087047,\n",
       "       24.11944915, 44.4433909 , 23.89148886, 45.28028274, 43.27451907,\n",
       "       31.29015588, 20.30523311, 15.15200293, 29.14934945, 48.20738876,\n",
       "       36.56943687, 43.34006048, 29.19199689, 33.7338067 , 20.71768752,\n",
       "       21.58203079, 28.37025801, 23.40032801, 30.05458317, 42.59873356,\n",
       "       41.76297854, 43.56752441, 56.57995675, 44.97424537, 38.77571925,\n",
       "       45.99184657, 50.18671988, 54.65310069, 38.94041847, 35.500988  ,\n",
       "       27.00155703, 31.74376237, 46.05103232, 47.04344639, 27.03748268,\n",
       "       53.48138325, 43.49962269, 50.80429668, 44.52772008, 20.94591733,\n",
       "       29.56392192, 54.7865757 , 26.91515743, 35.9297168 , 58.74873817,\n",
       "       26.90530084, 40.2897851 , 45.85292011, 19.03548697, 28.30753039,\n",
       "       23.77169502, 21.95033724, 52.29115481, 61.85208168, 35.42132407,\n",
       "       38.94850541, 26.79934893, 49.20348871, 38.38043505, 44.17437492,\n",
       "       32.70137485, 23.15805039, 23.06759596, 40.01296493, 36.71194711,\n",
       "       26.70828752, 25.8918612 , 24.2024193 , 41.79319368, 27.39442439,\n",
       "       29.57043089, 31.41130764, 42.76970537, 34.81506259, 25.56633415,\n",
       "       28.67724961, 34.68826173, 41.27636795, 45.65237602, 25.8309169 ,\n",
       "       42.01355161, 33.40572292, 36.78442257, 28.58816368, 47.37982424,\n",
       "       22.0133308 , 17.62146081, 38.37366058, 42.72206459, 27.92970212,\n",
       "       14.16071609, 32.636142  , 29.53477554, 61.49443611, 25.53462167,\n",
       "       20.33562201, 48.19593364, 54.26206818, 43.61826293, 34.34651811,\n",
       "       32.39525347, 12.41693619, 34.67979527, 35.50515502, 30.91741589,\n",
       "       25.67912301, 44.96694242, 42.19665546, 36.89856362, 48.54537674,\n",
       "       34.49994232, 45.85444292, 32.25863534, 31.77304771, 28.72517934,\n",
       "       53.69687556, 27.49741689, 36.69714378, 44.272081  , 47.72108038,\n",
       "       62.19055681, 29.89686607, 45.01791604, 15.57709285, 25.27318857,\n",
       "       24.85644895, 40.82496707, 31.47856897, 26.06537192, 52.47506822,\n",
       "       27.77261805, 55.5994482 , 50.41179283, 45.3110151 , 38.70980912,\n",
       "       43.58186634, 36.21289288, 42.81911716, 31.05330785, 37.60145994,\n",
       "       35.96413866, 41.40048114, 39.12367283, 43.15063674, 28.11286159,\n",
       "       40.5062435 , 17.99794715, 26.35723121, 41.72378583, 28.62465773,\n",
       "       29.43111131, 40.96159594, 43.31824371, 21.91319025, 18.20777109,\n",
       "       32.99399039, 39.35701717, 24.15400413, 31.76242714, 41.6376384 ,\n",
       "       32.13611324, 38.45311806, 39.51571457, 31.1706202 , 22.91427643,\n",
       "       37.34492989, 42.14996093, 29.8186156 , 43.84464285, 35.30772925,\n",
       "       34.20259284, 25.20784285, 28.57896165, 35.91437031, 29.00556878,\n",
       "       44.01960353, 57.48405583, 30.69999684, 17.55973862, 20.74726349,\n",
       "       40.51521461, 40.33050434, 29.41760975, 43.44947185, 34.09140713,\n",
       "       34.55496806, 49.80396289, 30.83366176, 35.83517014, 28.7219672 ,\n",
       "       44.86740068, 35.93850017, 26.38434588, 36.60246126, 45.23538416,\n",
       "       43.45844964, 45.12212708, 55.02462525, 25.86720326, 20.01330024,\n",
       "       27.75962215, 42.5699101 , 14.99046311, 44.99869203, 14.81038232,\n",
       "       39.25464201, 37.49947297, 24.53642093, 25.4100693 , 25.18507905,\n",
       "       26.4046444 , 30.7631514 , 43.5286356 , 39.12136175, 43.37992076,\n",
       "       39.72661697, 35.16512317, 50.1557527 , 55.12056772, 39.91971379,\n",
       "       34.56213566, 17.59977713, 45.84598642, 16.54175721, 43.53647819,\n",
       "       37.52271627, 36.65518921, 30.09145417, 36.92201875, 14.40805282,\n",
       "       43.06698728, 37.98029564, 29.78854354, 39.07535641, 28.44140603,\n",
       "       32.74778637, 28.91928701, 42.88199557, 35.62810362, 49.55024521,\n",
       "       23.25063377, 30.2282382 , 22.61880254, 27.29370597, 26.19908678,\n",
       "       47.90042684, 28.57135755, 42.23710761, 27.37937743, 23.60961097,\n",
       "       60.61246354, 47.24354768, 27.90449389, 35.13380263, 32.30728915,\n",
       "       15.14728732, 43.13862613, 27.88260804, 39.68480598, 30.13335684,\n",
       "       27.1860053 , 46.04845744, 26.00642142, 30.50978998, 17.40531472,\n",
       "       31.95933242, 15.21673332, 43.21167419, 31.04391689, 48.8535119 ,\n",
       "       37.98194483, 40.40624703, 37.6741067 , 22.7163309 , 46.82572944,\n",
       "       42.61447828, 52.612917  , 40.3011917 , 46.34352615, 33.16335464,\n",
       "       50.61737284, 40.78912763, 44.76518037, 36.15509929, 19.06120688,\n",
       "       40.44142992, 38.68399056, 26.0667737 , 43.24395404, 43.1502914 ,\n",
       "       42.43776367, 42.86040315, 32.26608807, 54.88541831, 28.25900463,\n",
       "       27.4347225 , 34.76381666, 33.15202336, 31.25388404, 32.48665391,\n",
       "       44.70704334, 23.94455947, 44.65494655, 45.85414312, 49.47716271,\n",
       "       30.94138035, 41.25850337, 16.5113897 , 37.9020362 , 40.73804565,\n",
       "       30.12276699, 52.58213398, 43.37221069, 40.20324391, 19.50659025,\n",
       "       19.16282102, 41.0486708 , 31.86739442, 29.93531231, 44.47748261,\n",
       "       26.41115389, 44.57471103, 13.83803577, 34.6976946 , 18.70438684,\n",
       "       13.21129355, 32.20785502, 26.84831258, 29.00577743, 25.13286509,\n",
       "       19.30034907, 21.07949994, 40.62575621, 17.93564396, 30.38789171,\n",
       "       28.11939464, 34.58706159, 40.73641433, 52.45601465, 42.79863415,\n",
       "       19.04799064, 47.55359962, 37.4998925 , 30.76160995, 34.64688416,\n",
       "       39.34019723, 35.26434296, 29.12966355, 30.37155491, 39.63323403,\n",
       "       44.01351837, 32.64148212, 26.71760401, 27.14267279, 36.77507742,\n",
       "       50.62556058, 34.95080097, 37.89086726, 36.64885817, 40.25716129,\n",
       "       46.37379508, 49.04758258, 43.76458696, 34.12958706, 45.57397899,\n",
       "       41.17085142, 35.14506157, 34.99189974, 36.86707784, 36.75171911,\n",
       "       22.48382166, 30.54963654, 35.49984828, 42.21991441, 35.68987393,\n",
       "       29.05484714, 30.40237193, 21.68359285, 25.42972506, 12.75321355,\n",
       "       35.2401269 , 27.24553195, 31.25819667, 48.56671906, 27.47936221,\n",
       "       38.21429961, 45.55685597, 39.8532107 , 34.26435559, 31.95738329,\n",
       "       31.81130571, 28.96725221, 35.09615033, 27.41421837, 31.21096708,\n",
       "       39.85233157, 27.52373152, 24.08400748, 29.52103931, 19.69141609,\n",
       "       40.50386884, 39.28815141, 18.3455386 , 48.9085557 , 35.38179177,\n",
       "       39.66042917, 56.8126363 , 33.13511301, 20.13713817, 38.92899908,\n",
       "       17.08115525, 34.91456406, 26.85362588, 19.3062126 , 31.47858616,\n",
       "       35.6305236 , 30.51416026, 44.88747341, 28.91599583, 39.03240921,\n",
       "       27.50031122, 38.07258642, 28.03919336, 29.09893169, 40.87169562,\n",
       "       32.15684246, 44.08722562, 24.47333925, 10.87911101, 18.70022832,\n",
       "       41.19770091, 45.68246316, 31.77454339, 22.42337548, 40.14642817,\n",
       "       40.32821347, 35.739913  , 24.39511114, 30.8704269 , 48.00986421,\n",
       "       51.23440574, 50.60746082, 35.40686526, 25.32310795, 33.81522153,\n",
       "       14.58002095, 38.56984285, 33.08167122, 27.73356954, 25.07833845,\n",
       "       30.26710147, 30.97922995,  6.75507563, 26.98120964, 25.91966156,\n",
       "       39.589928  , 42.10217653, 20.43879164, 48.74457758, 29.25933153,\n",
       "       26.04471811, 27.78477952, 43.15190768, 31.67346992, 24.82063311,\n",
       "       48.09993241, 38.14764754, 35.38433085, 35.48100097, 33.72654709,\n",
       "       46.4562597 , 40.46644476, 31.47842679, 41.52519075, 16.45459738,\n",
       "       55.30485052, 34.71366247, 27.83161528, 15.96141352, 10.12596226,\n",
       "       42.92761475, 22.41378334, 41.96654047, 42.85618467, 38.67902498,\n",
       "       36.68897829, 18.19440185, 29.52301584, 34.31049526, 33.44176128,\n",
       "       50.82620639, 22.90713366, 49.18273997, 26.87465503, 26.70782908,\n",
       "       43.80467565, 32.34061348, 42.34606144, 47.0955146 , 41.1641555 ,\n",
       "       44.30425032, 45.34357389, 33.11152335, 31.34582331, 25.9014382 ,\n",
       "       36.90005696, 51.01692479, 39.8719269 , 17.96683818, 26.16089221,\n",
       "       18.01871724, 58.04524912, 44.29041476, 31.15630647, 22.93321436,\n",
       "       32.49447745, 35.52216297, 28.78659091, 36.39815986, 38.28233999,\n",
       "       22.51124199, 27.606614  , 27.98883835, 29.9864693 , 44.56092351,\n",
       "       49.19851918, 35.1208316 , 31.23351699, 20.10537152, 44.75387793,\n",
       "       29.22106837, 24.09012133, 32.12039916, 23.96885418, 28.08028446,\n",
       "       39.32394511, 23.79358109, 33.83028846, 39.26624367, 37.71107944,\n",
       "       40.75941622, 44.64940923, 41.984409  , 48.84621643, 43.62723367,\n",
       "       39.05489344, 16.13406373, 36.71081116, 27.80272803, 34.14896374,\n",
       "       41.41225931, 35.92005739, 53.66978038, 34.72398107, 51.26451815,\n",
       "       43.07008635, 23.06726266, 39.89472803, 26.83402192, 40.92098486,\n",
       "       23.96706506, 28.03159126, 39.11040171, 22.58929242, 44.48985636,\n",
       "       34.9027667 , 53.97799012, 51.65669913, 19.23945432, 28.75409939,\n",
       "       14.01173547, 26.11104019, 37.72545768, 29.54761482, 54.43747323,\n",
       "       31.40455045, 42.6777344 , 36.31165527, 42.3998528 , 34.40983465,\n",
       "       26.73102661, 29.63635376, 43.13088776, 36.1806321 , 27.02862636,\n",
       "       54.85060847, 40.548772  , 42.2944019 , 37.22256556, 30.03583586,\n",
       "       30.62551568, 23.45584925, 36.3290527 , 34.53668264, 18.57692715,\n",
       "       21.0196049 , 37.06561558, 49.02541597, 42.89642829, 35.39638753,\n",
       "       20.78255912, 24.26289806, 44.53221701, 45.19899851, 22.60526095,\n",
       "       25.38836497, 27.49744012, 45.83502889, 21.70651275, 16.62779772,\n",
       "       41.29255134, 22.53388974, 36.18664341, 34.94746419, 34.51788661,\n",
       "       35.56281689, 39.67085375, 41.8340299 , 23.33216056, 31.00163615,\n",
       "       34.52340327, 33.91382463, 26.07412819, 42.61962111, 48.69983464,\n",
       "       21.0121156 , 36.15719471, 38.05486866, 49.54300443, 32.81198319,\n",
       "       28.12397936, 32.41891004, 22.17785192, 39.32507726, 25.24319675,\n",
       "       31.65082245, 18.70395388, 32.0760686 , 52.8512708 , 34.74517706,\n",
       "       29.44532222, 58.25732117, 31.56793919, 44.9778515 , 44.03129216,\n",
       "       37.60578639, 32.13786457, 39.25083285, 36.6537271 , 28.04985099,\n",
       "       39.09996264, 19.15596601, 32.53891897, 49.66623581, 28.420137  ,\n",
       "       42.53072241, 39.61322517, 25.47594195, 46.17082748, 30.03053909,\n",
       "       46.02323249,  8.46070758, 20.26821316, 14.85485285, 42.07745173,\n",
       "       27.26639085, 49.34879655, 17.40759318, 30.66798543, 19.80682785,\n",
       "       26.64849341, 34.04139358, 34.80813635, 34.10646928, 32.12701998,\n",
       "       42.74056321, 31.82716144, 48.97668272, 42.54716569, 33.02826955,\n",
       "       43.65215856, 42.33057629, 35.3432595 , 47.69723939, 21.07900757,\n",
       "       32.34895189, 38.55477909, 42.81824296, 25.36147073, 28.49115541,\n",
       "       32.80891889, 15.76694865, 37.64095253, 32.41621942, 38.1077353 ,\n",
       "       30.85301552, 60.16354844, 26.02836867, 31.60691281, 39.43806417,\n",
       "       32.94075316, 28.88577777, 38.09342586, 28.64600066, 26.47258986])"
      ]
     },
     "execution_count": 14,
     "metadata": {},
     "output_type": "execute_result"
    }
   ],
   "source": [
    "np.random.normal(35, 10, 1000)"
   ]
  },
  {
   "cell_type": "code",
   "execution_count": 15,
   "id": "c22cb210",
   "metadata": {},
   "outputs": [
    {
     "data": {
      "text/plain": [
       "price_quantile\n",
       "22.390985     1\n",
       "59.070414     1\n",
       "76.831039     1\n",
       "84.669840     1\n",
       "162.097439    1\n",
       "             ..\n",
       "8.225360      1\n",
       "12.288333     1\n",
       "476.913463    1\n",
       "1.848388      1\n",
       "54.664782     1\n",
       "Name: count, Length: 2443651, dtype: int64"
      ]
     },
     "execution_count": 15,
     "metadata": {},
     "output_type": "execute_result"
    }
   ],
   "source": [
    "#pd.DataFrame({'price': np.random.normal(mean, std_dev_price, max_price)})\n",
    "df['price_quantile'] = np.random.normal(df['price'])\n",
    "df['price_quantile'].value_counts()"
   ]
  },
  {
   "cell_type": "code",
   "execution_count": null,
   "id": "8076ac1d",
   "metadata": {},
   "outputs": [
    {
     "data": {
      "text/plain": [
       "<Axes: xlabel='price_quantile', ylabel='Count'>"
      ]
     },
     "execution_count": 16,
     "metadata": {},
     "output_type": "execute_result"
    }
   ],
   "source": [
    "sns.histplot(data=df, x='price_quantile')"
   ]
  },
  {
   "cell_type": "markdown",
   "id": "e9b77c8b",
   "metadata": {},
   "source": [
    "## Part 3: Unpacking Product Ratings"
   ]
  },
  {
   "cell_type": "code",
   "execution_count": null,
   "id": "208c22dd",
   "metadata": {},
   "outputs": [],
   "source": []
  }
 ],
 "metadata": {
  "kernelspec": {
   "display_name": "Python 3 (ipykernel)",
   "language": "python",
   "name": "python3"
  },
  "language_info": {
   "codemirror_mode": {
    "name": "ipython",
    "version": 3
   },
   "file_extension": ".py",
   "mimetype": "text/x-python",
   "name": "python",
   "nbconvert_exporter": "python",
   "pygments_lexer": "ipython3",
   "version": "3.9.6"
  }
 },
 "nbformat": 4,
 "nbformat_minor": 5
}
